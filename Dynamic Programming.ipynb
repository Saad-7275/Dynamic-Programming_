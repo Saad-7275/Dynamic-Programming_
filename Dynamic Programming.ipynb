{
 "cells": [
  {
   "cell_type": "markdown",
   "metadata": {},
   "source": [
    "#### minimum steps to 1"
   ]
  },
  {
   "cell_type": "code",
   "execution_count": null,
   "metadata": {},
   "outputs": [],
   "source": [
    "import sys\n",
    "def minsteps(n,dp):\n",
    "    if n == 1:\n",
    "        return 0\n",
    "    \n",
    "    ans1 = sys.maxsize\n",
    "    if n%3 == 0:\n",
    "        if dp[n//3] == -1:\n",
    "            ans1 = minsteps(n//3,dp)\n",
    "            dp[n//3] = ans1\n",
    "        else:\n",
    "            ans1 = dp[n//3]\n",
    "            \n",
    "    ans2 = sys.maxsize  \n",
    "    if n%2 == 0:  \n",
    "        if dp[n//2] == -1:\n",
    "            ans2 = minsteps(n//2,dp)\n",
    "            dp[n//2] = ans2\n",
    "        else:\n",
    "            ans2 = dp[n//2]\n",
    "            \n",
    "    ans3 = sys.maxsize\n",
    "    ans3 = minsteps(n-1,dp)\n",
    "    if dp[n-1] == -1:\n",
    "        dp[n-1] = ans3\n",
    "    else:\n",
    "        ans3 = dp[n-1]\n",
    "        \n",
    "    ans = 1 + min(ans1,ans2,ans3)\n",
    "    return ans\n",
    "\n",
    "n = int(input())\n",
    "dp = [-1 for i in range(n+1)]\n",
    "ans = minsteps(n,dp)\n",
    "print(ans)"
   ]
  },
  {
   "cell_type": "markdown",
   "metadata": {},
   "source": [
    "### MinCost Path"
   ]
  },
  {
   "cell_type": "code",
   "execution_count": null,
   "metadata": {},
   "outputs": [],
   "source": [
    "import sys\n",
    "def mincost(cost,i,j,m,n):\n",
    "    \n",
    "    #SPECIAL CASE\n",
    "    if i==m-1 and j==n-1:\n",
    "        return cost[i][j]\n",
    "    #BASE CASE\n",
    "    if i>=m or j>=n:\n",
    "        return sys.maxsize\n",
    "    ans1 = mincost(cost,i+1,j,m,n)\n",
    "    ans2 = mincost(cost,i,j+1,m,n)\n",
    "    ans3 = mincost(cost,i+1,j+1,m,n)\n",
    "    \n",
    "    ans = cost[i][j] + min(ans1,ans2,ans3)\n",
    "    return ans\n",
    "\n",
    "cost = [[1,5,11],[8,13,12],[2,3,7],[15,16,18]]\n",
    "mincost(cost,0,0,4,3)"
   ]
  },
  {
   "cell_type": "markdown",
   "metadata": {},
   "source": [
    "### MinCost Path(DP)"
   ]
  },
  {
   "cell_type": "code",
   "execution_count": null,
   "metadata": {},
   "outputs": [],
   "source": [
    "import sys\n",
    "def mincost(cost,i,j,m,n,dp):\n",
    "    \n",
    "    if i==m-1 and j==n-1:\n",
    "        return cost[i][j]\n",
    "    if i>=m or j>=m:\n",
    "        return sys.maxsize\n",
    "    \n",
    "    if dp[i+1][j] == -1:\n",
    "        ans1 = mincost(cost,i+1,j,m,n,dp)\n",
    "        dp[i+1][j] = ans1\n",
    "    else:\n",
    "        ans1 = dp[i+1][j]\n",
    "        \n",
    "    if dp[i][j+1] == -1:\n",
    "        ans2 = mincost(cost,i,j+1,m,n,dp)\n",
    "        dp[i][j+1] = ans2\n",
    "    else:\n",
    "        ans2 = dp[i][j+1]\n",
    "        \n",
    "    if dp[i+1][j+1] == -1:\n",
    "        ans3 = mincost(cost,i+1,j+1,m,n,dp)\n",
    "        dp[i+1][j+1] = ans3\n",
    "    else:\n",
    "        ans3 = dp[i+1][j+1]\n",
    "        \n",
    "    ans = cost[i][j] + min(ans1,ans2,ans3)\n",
    "    return ans\n",
    "\n",
    "\n",
    "cost = [[1,5,11],[8,13,12],[2,3,7],[15,16,18]]\n",
    "m = 4\n",
    "n = 3\n",
    "dp = [[sys.maxsize for i in range(m+1)]for j in range(n+1)]\n",
    "mincost(cost,0,0,4,3,dp)\n",
    "        \n",
    "        \n",
    "    "
   ]
  },
  {
   "cell_type": "markdown",
   "metadata": {},
   "source": [
    "### Longest Common Subsequence(LCS)"
   ]
  },
  {
   "cell_type": "code",
   "execution_count": null,
   "metadata": {},
   "outputs": [],
   "source": [
    "def LCS(str_1,str_2,i,j):\n",
    "    if len(str_1)==0 and len(str_2) == 0:\n",
    "        return 0\n",
    "    if i == len(str_1) and j == len(str_2):\n",
    "        return 0\n",
    "    \n",
    "    while (i<len(str_1) and j<len(str_2)):\n",
    "        if str_1[i] == str_2[j]:\n",
    "            ans1 = LCS(str_1,str_2,i+1,j+1)\n",
    "            ans = 1 + ans1\n",
    "            \n",
    "        if str_1[i] != str_2[j]:\n",
    "            ans2 = LCS(str_1,str_2,i+1,j)\n",
    "            ans3 = LCS(str_1,str_2,i,j+1)\n",
    "            ans = max(ans2,ans3)\n",
    "            \n",
    "    return ans\n",
    "\n",
    "str_1 = \"abdgec\"\n",
    "str_2 = \"bfdmgjc\"\n",
    "ans=LCS(str_1,str_2,0,0)\n",
    "print(ans)"
   ]
  },
  {
   "cell_type": "markdown",
   "metadata": {},
   "source": [
    "### LCS(using memoization)"
   ]
  },
  {
   "cell_type": "code",
   "execution_count": null,
   "metadata": {},
   "outputs": [],
   "source": [
    "def lcs(str1,str2,i,j,dp):\n",
    "    if i == len(str1) and j == len(str2):\n",
    "        return 0\n",
    "    if str1[i] == str2[j]:\n",
    "        if dp[i+1][j+1] == -1:\n",
    "            ans = 1+lcs(str1,str2,i+1,j+1,dp)\n",
    "            dp[i+1][j+1] = ans\n",
    "        else:\n",
    "            ans = dp[i+1][j+1]\n",
    "            \n",
    "    if str1[i] != str2[j]:\n",
    "        if dp[i+1][j] == -1:\n",
    "            ans1 = lcs(str1,str2,i+1,j,dp)\n",
    "            dp[i+1][j] = ans1\n",
    "        else:\n",
    "            ans1 = dp[i+1][j]\n",
    "        \n",
    "        if dp[i][j+1] == -1:\n",
    "            ans2 = lcs(str1,str2,i,j+1,dp)\n",
    "            dp[i][j+1] = ans2\n",
    "        else:\n",
    "            ans2 = dp[i][j+1]\n",
    "            \n",
    "        ans = max(ans1,ans2)\n",
    "    return ans\n",
    "\n",
    "str1 = \"abdgec\"\n",
    "str2 = \"bfdmgjc\"\n",
    "dp = [[-1 for i in range(len(str1)+1)]for j in range(len(str2)+1)]\n",
    "lcs(str1,str2,0,0,dp)"
   ]
  }
 ],
 "metadata": {
  "kernelspec": {
   "display_name": "Python 3",
   "language": "python",
   "name": "python3"
  },
  "language_info": {
   "codemirror_mode": {
    "name": "ipython",
    "version": 3
   },
   "file_extension": ".py",
   "mimetype": "text/x-python",
   "name": "python",
   "nbconvert_exporter": "python",
   "pygments_lexer": "ipython3",
   "version": "3.7.16"
  }
 },
 "nbformat": 4,
 "nbformat_minor": 2
}
